{
 "cells": [
  {
   "cell_type": "raw",
   "id": "61ae0c4e-e514-4eb9-a3b9-126d3f68f35b",
   "metadata": {},
   "source": [
    "---\n",
    "title: \"Reflecting on Unmasking AI: Critiquing Doomers\"\n",
    "description: \"This blog post will reflect on a line of criticism made by Dr. Buolamwini in the book Unmasking AI: My Mission to Protect What Is Human in a World of Machines.\" \n",
    "author: \"Layla\"\n",
    "date: \"10/13/2025\"\n",
    "categories:\n",
    "  - Living With A Book\n",
    "---"
   ]
  },
  {
   "cell_type": "markdown",
   "id": "74e9de7c-9a10-4b31-ba57-73fe3e0ce2f6",
   "metadata": {},
   "source": [
    "My impression of Unmasking AI by Dr. Joy Buolamwini so far is that it is an enlightening literary work on the use of ML/AI in tech products. While her focus is not generative AI specifically, she is critical of AI overall and uses her experiences in computer vision research to call attention to bias lurking in algorithms.\n",
    "\n",
    "A large theme in the book is her call to action in preventing AI harms, with a keen focus on the power that the AI conversation itself can have in preventing or disregarding these harms. One line of reasoning in the book that I find very compelling is that, despite her being critical of AI in general, she recognizes that not all AI critiques are created equal.\n",
    "\n",
    "Specifically, she criticizes those with a doomer mindset, which she refers to as “longtermists.\" She posits this view of AI harm/risk lacks merit in the current AI conversation, because it tends to prioritize existential threats that AI poses to hypothetical people. Dr. Buolamwini argues that this minimizes existing AI harms, including those contributing to structural violence in the here and now."
   ]
  }
 ],
 "metadata": {
  "kernelspec": {
   "display_name": "Python 3-12 (COMM4190)",
   "language": "python",
   "name": "python3-12_comm4190"
  },
  "language_info": {
   "codemirror_mode": {
    "name": "ipython",
    "version": 3
   },
   "file_extension": ".py",
   "mimetype": "text/x-python",
   "name": "python",
   "nbconvert_exporter": "python",
   "pygments_lexer": "ipython3",
   "version": "3.12.12"
  }
 },
 "nbformat": 4,
 "nbformat_minor": 5
}
